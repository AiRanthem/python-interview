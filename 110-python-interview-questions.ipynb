{
 "cells": [
  {
   "cell_type": "markdown",
   "metadata": {},
   "source": [
    "# 110道python面试题\n",
    "\n",
    "这个文件是看知乎的[110倒python面试题](https://zhuanlan.zhihu.com/p/54430650)时用来全部实现一遍以增强记忆的notebook。\n",
    "\n",
    "作者在写这篇文章的时候有一些不完善和小疏忽，这里我做了勘误和重点强调。"
   ]
  },
  {
   "cell_type": "markdown",
   "metadata": {},
   "source": [
    "### 1、一行代码实现1--100之和"
   ]
  },
  {
   "cell_type": "code",
   "execution_count": 1,
   "metadata": {},
   "outputs": [
    {
     "data": {
      "text/plain": [
       "5050"
      ]
     },
     "execution_count": 1,
     "metadata": {},
     "output_type": "execute_result"
    }
   ],
   "source": [
    "# 注意[a,b)\n",
    "sum(range(1,101))"
   ]
  },
  {
   "cell_type": "markdown",
   "metadata": {},
   "source": [
    "### 2、如何在一个函数内部修改全局变量"
   ]
  },
  {
   "cell_type": "code",
   "execution_count": 2,
   "metadata": {},
   "outputs": [
    {
     "name": "stdout",
     "output_type": "stream",
     "text": [
      "local: 5\n",
      "global: 1\n"
     ]
    }
   ],
   "source": [
    "a = 5\n",
    "def fn1():\n",
    "    a = 1\n",
    "fn1()\n",
    "print(\"local:\",a)\n",
    "\n",
    "def fn2():\n",
    "    global a\n",
    "    a = 1\n",
    "fn2()\n",
    "print(\"global:\",a)"
   ]
  },
  {
   "cell_type": "markdown",
   "metadata": {},
   "source": [
    "### 3、列出5个python标准库\n",
    "\n",
    "os：提供了不少与操作系统相关联的函数\n",
    "\n",
    "sys: 通常用于命令行参数\n",
    "\n",
    "re: 正则匹配\n",
    "\n",
    "math: 数学运算\n",
    "\n",
    "datetime:处理日期时间\n",
    "\n",
    "pickle: 序列化对象\n",
    "\n",
    "json：处理JSON字符串"
   ]
  },
  {
   "cell_type": "markdown",
   "metadata": {},
   "source": [
    "### 4、字典如何删除键和合并两个字典"
   ]
  },
  {
   "cell_type": "code",
   "execution_count": 3,
   "metadata": {},
   "outputs": [
    {
     "data": {
      "text/plain": [
       "{'age': 16}"
      ]
     },
     "execution_count": 3,
     "metadata": {},
     "output_type": "execute_result"
    }
   ],
   "source": [
    "dic = {\"name\":\"abc\", \"age\":16}\n",
    "del dic[\"name\"] # 删除key\n",
    "dic"
   ]
  },
  {
   "cell_type": "code",
   "execution_count": 4,
   "metadata": {},
   "outputs": [
    {
     "data": {
      "text/plain": [
       "{'age': 16, 'name': 'def'}"
      ]
     },
     "execution_count": 4,
     "metadata": {},
     "output_type": "execute_result"
    }
   ],
   "source": [
    "dic2 = {\"name\":\"def\"}\n",
    "dic.update(dic2) # 合并字典\n",
    "dic"
   ]
  },
  {
   "cell_type": "markdown",
   "metadata": {},
   "source": [
    "### 5、谈下python的GIL\n",
    "\n",
    "GIL 是python的全局解释器锁，同一进程中假如有多个线程运行，一个线程在运行python程序的时候会霸占python解释器（加了一把锁即GIL），使该进程内的其他线程无法运行，等该线程运行完后其他线程才能运行。如果线程运行过程中遇到耗时操作，则解释器锁解开，使其他线程运行。所以在多线程中，线程的运行仍是有先后顺序的，并不是同时进行。\n",
    "\n",
    "多进程中因为每个进程都能被系统分配资源，相当于每个进程有了一个python解释器，所以多进程可以实现多个进程的同时运行，缺点是进程系统资源开销大\n",
    "\n",
    "任何Python线程执行前，必须先获得GIL锁，然后，每执行100条字节码，解释器就自动释放GIL锁，让别的线程有机会执行。这个GIL全局锁实际上把所有线程的执行代码都给上了锁，所以，多线程在Python中只能交替执行，即使100个线程跑在100核CPU上，也只能用到1个核。"
   ]
  },
  {
   "cell_type": "markdown",
   "metadata": {},
   "source": [
    "### 6、python实现列表去重的方法"
   ]
  },
  {
   "cell_type": "code",
   "execution_count": 5,
   "metadata": {},
   "outputs": [
    {
     "data": {
      "text/plain": [
       "[1, 2, 3, 4]"
      ]
     },
     "execution_count": 5,
     "metadata": {},
     "output_type": "execute_result"
    }
   ],
   "source": [
    "l = [1,2,3,3,3,3,3,3,4]\n",
    "a = list(set(l)) # 通过集合去重\n",
    "a"
   ]
  },
  {
   "cell_type": "markdown",
   "metadata": {},
   "source": [
    "### 7、fun(\\*args,\\*\\*kwargs)中的\\*args,\\*\\*kwargs什么意思？\n",
    "\n",
    "用于函数定义参数。不确定会有多少个参数。`*args`表示一个可变数量的参数列表"
   ]
  },
  {
   "cell_type": "code",
   "execution_count": 6,
   "metadata": {},
   "outputs": [
    {
     "name": "stdout",
     "output_type": "stream",
     "text": [
      "(2, 3, 4, 5, 6, 7)\n"
     ]
    }
   ],
   "source": [
    "def fn(a, *args):\n",
    "    print(args)\n",
    "fn(1,2,3,4,5,6,7)"
   ]
  },
  {
   "cell_type": "markdown",
   "metadata": {},
   "source": [
    "`**kwargs`表示一个字典，记录传参的时候以`key=value`形式传的可变参数"
   ]
  },
  {
   "cell_type": "code",
   "execution_count": 7,
   "metadata": {},
   "outputs": [
    {
     "name": "stdout",
     "output_type": "stream",
     "text": [
      "key: key1 value: 1\n",
      "key: key2 value: val2\n"
     ]
    }
   ],
   "source": [
    "def fn(**kwargs):\n",
    "    for k,v in kwargs.items(): # 注意：遍历字典需要使用dict.items()/keys()/values()\n",
    "        print(\"key:\", k, \"value:\", v)\n",
    "fn(key1=1, key2=\"val2\")"
   ]
  },
  {
   "cell_type": "markdown",
   "metadata": {},
   "source": [
    "### 8、python2和python3的range（100）的区别\n",
    "\n",
    "python2返回列表，python3返回迭代器，节约内存\n",
    "\n",
    "### 9、一句话解释什么样的语言能够用装饰器?\n",
    "\n",
    "函数可以作为参数传递的语言，可以使用装饰器\n",
    "\n",
    "### 10、python内建数据类型有哪些\n",
    "\n",
    "| 分类 | 数据类型 |\n",
    "| :-: | :-: |\n",
    "|文本类型|\tstr |\n",
    "|数值类型|\tint, float, complex |\n",
    "|序列类型|\tlist, tuple, range |\n",
    "|映射类型|\tdict |\n",
    "|集合类型|\tset, frozenset |\n",
    "|布尔类型|\tbool\n",
    "|二进制类型|\tbytes, bytearray, memoryview |\n",
    "\n",
    "> complex: 虚数\n",
    "\n",
    "> frozenset: 不能更改的set\n",
    "\n",
    "> bytes和str都是不可变，不能修改数据，操作是生成新的对象\n",
    "\n",
    "> bytearray是一个可变数组，类似列表\n",
    "\n",
    "> memoryview: 不需要复制就可以访问对象"
   ]
  },
  {
   "cell_type": "markdown",
   "metadata": {},
   "source": [
    "### 11、简述面向对象中__new__和__init__区别\n",
    "\n",
    "+ `__init__`是初始化方法，创建对象后，就立刻被默认调用了，可接收参数\n",
    "+ `__new__`至少要有一个参数cls，代表当前类，此参数在实例化时由Python解释器自动识别\n",
    "+ `__new__`必须要有返回值，返回实例化出来的实例，这点在自己实现`__new__`时要特别注意，可以return父类（通过`super(类名, cls).__new__`），或者直接是object的`__new__`出来的实例\n",
    "+ `__init__`有一个参数self，就是这个`__new__`返回的实例，`__init__`在`__new__`的基础上可以完成一些其它初始化的动作，`__init__`不需要返回值\n",
    "+ 如果`__new__`创建的是**当前类**的实例，会**自动调用**`__init__`函数，通过return语句里面调用的`__new__`函数的第一个参数是cls来保证是当前类实例\n",
    "+ 如果`__new__`的参数是其他类的类名（不是cls），那么实际创建返回的就是其他类的实例，**不仅不会调用当前类的`__init__`函数，也不会调用其他类的`__init__`函数**。"
   ]
  },
  {
   "cell_type": "code",
   "execution_count": 8,
   "metadata": {},
   "outputs": [
    {
     "name": "stdout",
     "output_type": "stream",
     "text": [
      "in function __new__\n",
      "id of cls is 2187876432424\n",
      "in function __init__\n",
      "id of class A 2187876432424\n",
      "id of instance a 2187882578696\n"
     ]
    }
   ],
   "source": [
    "class A(object):\n",
    "    def __init__(self):\n",
    "        print(\"in function __init__\")\n",
    "    def __new__(cls):\n",
    "        print(\"in function __new__\")\n",
    "        print(\"id of cls is\", id(cls))\n",
    "        return super(A, cls).__new__(cls)\n",
    "a = A()\n",
    "print(\"id of class A\", id(A))\n",
    "print(\"id of instance a\", id(a))"
   ]
  },
  {
   "cell_type": "markdown",
   "metadata": {},
   "source": [
    "### 12、简述with方法打开处理文件帮我我们做了什么？\n",
    "\n",
    "打开文件在进行读写的时候可能会出现一些异常状况，如果按照常规的f.open\n",
    "写法，我们需要try,except,finally，做异常判断，并且文件最终不管遇到什么情况，都要执行finally f.close()关闭文件，**with方法帮我们实现了finally中f.close**\n",
    "\n",
    "补充：其实with对很多**成对**的操作都能等价于在finally中自动完成，比如释放锁等。\n",
    "\n",
    "### 13、列表[1,2,3,4,5],请使用map()函数输出[1,4,9,16,25]，并使用列表推导式提取出大于10的数，最终输出[16,25]"
   ]
  },
  {
   "cell_type": "code",
   "execution_count": 9,
   "metadata": {},
   "outputs": [
    {
     "name": "stdout",
     "output_type": "stream",
     "text": [
      "[1, 4, 9, 16, 25]\n",
      "[16, 25]\n"
     ]
    }
   ],
   "source": [
    "l = [1,2,3,4,5]\n",
    "l = list(map(lambda x: x*x, l)) # 这里适合用匿名函数 lambda params : operation\n",
    "print(l)\n",
    "l = [i for i in l if i > 10]\n",
    "print(l)"
   ]
  },
  {
   "cell_type": "markdown",
   "metadata": {},
   "source": [
    "### 14、python中生成随机整数、随机小数、0--1之间小数方法\n",
    "\n",
    "随机整数：random.randint(a,b),生成区间内的整数\n",
    "\n",
    "0-1随机小数：random.random(),括号中不传参\n",
    "\n",
    "另外可以使用numpy生成随机的ndArray"
   ]
  },
  {
   "cell_type": "code",
   "execution_count": 10,
   "metadata": {},
   "outputs": [
    {
     "name": "stdout",
     "output_type": "stream",
     "text": [
      "random int:  8\n",
      "random float between 0-1:  0.2417164452580184\n",
      "a 5d-array:  [5.12328169e-01 3.60648453e-01 9.73354717e-01 4.55549568e-01\n",
      " 4.32625135e-04]\n",
      "a 5d-array of normal distribution:  [ 0.33621185  1.13677036 -0.80892746 -1.30823215 -0.07967001]\n"
     ]
    }
   ],
   "source": [
    "import numpy as np\n",
    "import random\n",
    "\n",
    "print(\"random int: \", random.randint(1,10))\n",
    "print(\"random float between 0-1: \", random.random())\n",
    "print(\"a 5d-array: \", np.random.rand(5))\n",
    "print(\"a 5d-array of normal distribution: \", np.random.randn(5))"
   ]
  },
  {
   "cell_type": "markdown",
   "metadata": {},
   "source": [
    "### 15、避免转义给字符串加哪个字母表示原始字符串？\n",
    "r\n",
    "\n",
    "### 16、`<div class=\"nam\">中国</div>`，用正则匹配出标签里面的内容（“中国”），其中class的类名是不确定的"
   ]
  },
  {
   "cell_type": "code",
   "execution_count": 11,
   "metadata": {},
   "outputs": [
    {
     "data": {
      "text/plain": [
       "'中国'"
      ]
     },
     "execution_count": 11,
     "metadata": {},
     "output_type": "execute_result"
    }
   ],
   "source": [
    "import re\n",
    "pat = r\"<div class=\\\".+\\\">(\\w+)</div>\"\n",
    "match = re.match(pat, '<div class=\"nam\">中国</div>')\n",
    "match.group(1)"
   ]
  },
  {
   "cell_type": "markdown",
   "metadata": {},
   "source": [
    "### 17、python中断言方法举例\n",
    "assert（）方法，断言成功，则程序继续执行，断言失败，则程序报错"
   ]
  },
  {
   "cell_type": "code",
   "execution_count": 12,
   "metadata": {},
   "outputs": [
    {
     "name": "stdout",
     "output_type": "stream",
     "text": [
      "assert 'a>3' success\n",
      "assert 'b>3' fail\n"
     ]
    }
   ],
   "source": [
    "a,b = 5,2\n",
    "assert(a>3)\n",
    "print(\"assert 'a>3' success\")\n",
    "try:\n",
    "    assert(b>3)\n",
    "except:\n",
    "    print(\"assert 'b>3' fail\")"
   ]
  },
  {
   "cell_type": "markdown",
   "metadata": {},
   "source": [
    "### 18、数据表student有id,name,score,city字段，其中name中的名字可有重复，需要消除重复行,请写sql语句\n",
    "\n",
    "select distinct name from student\n",
    "\n",
    "### 19、10个Linux常用命令\n",
    "+ ls\n",
    "+ pwd = print word directory\n",
    "+ cd\n",
    "+ touch 修改文件的时间戳属性\n",
    "+ rm\n",
    "+ mkdir\n",
    "+ scp\n",
    "+ rm\n",
    "+ cp\n",
    "+ mv\n",
    "+ cat\n",
    "+ grep\n",
    "+ echo\n",
    "+ more\n",
    "+ less"
   ]
  },
  {
   "cell_type": "markdown",
   "metadata": {},
   "source": [
    "### 20、python2和python3区别？列举5个\n",
    "\n",
    "1、Python3 使用 print 必须要以小括号包裹打印内容，比如 print('hi')\n",
    "\n",
    "Python2 既可以使用带小括号的方式，也可以使用一个空格来分隔打印内容，比 如 print 'hi'\n",
    "\n",
    "2、python2 range(1,10)返回列表，python3中返回迭代器，节约内存\n",
    "\n",
    "3、python2中使用ascii编码，python中使用utf-8编码\n",
    "\n",
    "4、python2中unicode表示字符串序列，str表示字节序列\n",
    "\n",
    "python3中str表示字符串序列，byte表示字节序列\n",
    "\n",
    "5、python2中为正常显示中文，引入coding声明，python3中不需要\n",
    "\n",
    "6、python2中是raw_input()函数，python3中是input()函数\n",
    "\n",
    "### 21、列出python中可变数据类型和不可变数据类型，并简述原理\n",
    "+ 不可变数据类型：数值型、字符串型string和元组tuple\n",
    "\n",
    "不允许变量的值发生变化，如果改变了变量的值，相当于是新建了一个对象，而对于相同的值的对象，在内存中则只有一个对象（一个地址），如下图用id()方法可以打印对象的id"
   ]
  },
  {
   "cell_type": "code",
   "execution_count": 13,
   "metadata": {},
   "outputs": [
    {
     "name": "stdout",
     "output_type": "stream",
     "text": [
      "140717348856208\n",
      "140717348856208\n",
      "2187811255920\n",
      "2187811255920\n",
      "2187881833544\n",
      "2187903686088\n",
      "make changes\n",
      "140717348856240\n",
      "2187882511640\n"
     ]
    }
   ],
   "source": [
    "a = 1\n",
    "a1 = 1\n",
    "b = \"abc\"\n",
    "b1 = \"abc\"\n",
    "c = (1,2)\n",
    "c1 = (1,2)\n",
    "\n",
    "print(id(a))\n",
    "print(id(a1))\n",
    "print(id(b))\n",
    "print(id(b1))\n",
    "print(id(c))\n",
    "print(id(c1)) # tuple值一样但是id不一样\n",
    "\n",
    "print(\"make changes\")\n",
    "a += 1\n",
    "c += c1\n",
    "print(id(a))\n",
    "print(id(c))"
   ]
  },
  {
   "cell_type": "markdown",
   "metadata": {},
   "source": [
    "+ 可变数据类型：列表list和字典dict；\n",
    "\n",
    "允许变量的值发生变化，即如果对变量进行append、+=等这种操作后，只是改变了变量的值，而不会新建一个对象，变量引用的对象的地址也不会变化，不过对于相同的值的不同对象，在内存中则会存在不同的对象，即每个对象都有自己的地址，相当于内存中对于同值的对象保存了多份，这里不存在引用计数，是实实在在的对象。"
   ]
  },
  {
   "cell_type": "code",
   "execution_count": 14,
   "metadata": {},
   "outputs": [
    {
     "name": "stdout",
     "output_type": "stream",
     "text": [
      "2187883382856\n",
      "2187883382856\n",
      "2187903762744\n",
      "2187903762744\n"
     ]
    }
   ],
   "source": [
    "a = [1,2,3]\n",
    "print(id(a))\n",
    "a.append(4)\n",
    "print(id(a))\n",
    "\n",
    "d = {'a':1}\n",
    "print(id(d))\n",
    "d.update({'b':2})\n",
    "print(id(d))"
   ]
  },
  {
   "cell_type": "markdown",
   "metadata": {},
   "source": [
    "### 22、s = \"ajldjlajfdljfddd\"，去重并从小到大排序输出\"adfjl\""
   ]
  },
  {
   "cell_type": "code",
   "execution_count": 15,
   "metadata": {},
   "outputs": [
    {
     "name": "stdout",
     "output_type": "stream",
     "text": [
      "adfjl\n"
     ]
    }
   ],
   "source": [
    "s = \"ajldjlajfdljfddd\"\n",
    "s = list(set(s))\n",
    "s.sort()\n",
    "print(\"\".join(s))"
   ]
  },
  {
   "cell_type": "markdown",
   "metadata": {},
   "source": [
    "### 23、用lambda函数实现两个数相乘"
   ]
  },
  {
   "cell_type": "code",
   "execution_count": 16,
   "metadata": {},
   "outputs": [
    {
     "name": "stdout",
     "output_type": "stream",
     "text": [
      "12\n"
     ]
    }
   ],
   "source": [
    "mul = lambda a,b:a*b\n",
    "print(mul(3,4))"
   ]
  },
  {
   "cell_type": "markdown",
   "metadata": {},
   "source": [
    "### 24、字典根据键从小到大排序"
   ]
  },
  {
   "cell_type": "code",
   "execution_count": 17,
   "metadata": {},
   "outputs": [
    {
     "data": {
      "text/plain": [
       "{'age': 18, 'city': '深圳', 'name': 'zs', 'tel': '1362626627'}"
      ]
     },
     "execution_count": 17,
     "metadata": {},
     "output_type": "execute_result"
    }
   ],
   "source": [
    "dic={\"name\":\"zs\",\"age\":18,\"city\":\"深圳\",\"tel\":\"1362626627\"}\n",
    "# 通过items和匿名函数转列表进行排序\n",
    "lis = sorted(dic.items(), key=lambda i:i[0])\n",
    "dict(lis)"
   ]
  },
  {
   "cell_type": "markdown",
   "metadata": {},
   "source": [
    "### 25、利用collections库的Counter方法统计字符串每个单词出现的次数\"kjalfj;ldsjafl;hdsllfdhg;lahfbl;hl;ahlf;h\""
   ]
  },
  {
   "cell_type": "code",
   "execution_count": 18,
   "metadata": {},
   "outputs": [
    {
     "name": "stdout",
     "output_type": "stream",
     "text": [
      "4\n",
      "Counter({'l': 9, ';': 6, 'h': 6, 'f': 5, 'a': 4, 'j': 3, 'd': 3, 's': 2, 'k': 1, 'g': 1, 'b': 1})\n"
     ]
    }
   ],
   "source": [
    "from collections import Counter\n",
    "a = \"kjalfj;ldsjafl;hdsllfdhg;lahfbl;hl;ahlf;h\"\n",
    "res = Counter(a)\n",
    "print(res['a'])\n",
    "print(res)"
   ]
  },
  {
   "cell_type": "markdown",
   "metadata": {},
   "source": [
    "### 26、字符串a = \"not 404 found 张三 99 深圳\"，每个词中间是空格，用正则过滤掉英文和数字，最终输出\"张三 深圳\""
   ]
  },
  {
   "cell_type": "code",
   "execution_count": 19,
   "metadata": {},
   "outputs": [
    {
     "data": {
      "text/plain": [
       "'张三 深圳'"
      ]
     },
     "execution_count": 19,
     "metadata": {},
     "output_type": "execute_result"
    }
   ],
   "source": [
    "a = \"not 404 Found 张三 99 深圳\"\n",
    "pat = \"([^a-zA-Z0-9\\s]+)\"\n",
    "l = re.findall(pat, a)\n",
    "\" \".join(l)"
   ]
  },
  {
   "cell_type": "markdown",
   "metadata": {},
   "source": [
    "### 27、filter方法求出列表所有奇数并构造新列表，a = [1, 2, 3, 4, 5, 6, 7, 8, 9, 10]\n",
    "filter() 函数用于过滤序列，过滤掉不符合条件的元素，返回由符合条件元素组成的新列表。该接收两个参数，第一个为函数，第二个为序列，序列的每个元素作为参数传递给函数进行判断，然后返回 True 或 False，最后将返回 True 的元素放到新列表"
   ]
  },
  {
   "cell_type": "code",
   "execution_count": 20,
   "metadata": {},
   "outputs": [
    {
     "data": {
      "text/plain": [
       "[1, 3, 5, 7, 9]"
      ]
     },
     "execution_count": 20,
     "metadata": {},
     "output_type": "execute_result"
    }
   ],
   "source": [
    "a = [1, 2, 3, 4, 5, 6, 7, 8, 9, 10]\n",
    "b = list(filter(lambda x:x%2, a))\n",
    "b"
   ]
  },
  {
   "cell_type": "markdown",
   "metadata": {},
   "source": [
    "### 29、正则re.complie作用\n",
    "re.compile是将正则表达式编译成一个对象，加快速度，并重复使用"
   ]
  },
  {
   "cell_type": "code",
   "execution_count": 21,
   "metadata": {},
   "outputs": [
    {
     "name": "stdout",
     "output_type": "stream",
     "text": [
      "121\n",
      "121\n"
     ]
    }
   ],
   "source": [
    "pat = \"[1-9]+\"\n",
    "s = \"ssa121aas\"\n",
    "print(re.search(pat, s).group(0))\n",
    "pat = re.compile(pat)\n",
    "print(re.search(pat, s).group(0))"
   ]
  },
  {
   "cell_type": "markdown",
   "metadata": {},
   "source": [
    "### 30、a=（1，）b=(1)，c=(\"1\") 分别是什么类型的数据？\n",
    "\n",
    "a: tuple; b: int; c: str"
   ]
  },
  {
   "cell_type": "code",
   "execution_count": 22,
   "metadata": {},
   "outputs": [
    {
     "name": "stdout",
     "output_type": "stream",
     "text": [
      "[<class 'tuple'>, <class 'int'>, <class 'str'>]\n"
     ]
    }
   ],
   "source": [
    "a = (1,)\n",
    "b = (1)\n",
    "c = (\"1\")\n",
    "print(list(map(type, [a,b,c])))"
   ]
  },
  {
   "cell_type": "markdown",
   "metadata": {},
   "source": [
    "### 31、两个列表[1,5,7,9]和[2,2,6,8]合并为[1,2,2,5,6,7,8,9]"
   ]
  },
  {
   "cell_type": "code",
   "execution_count": 23,
   "metadata": {},
   "outputs": [
    {
     "name": "stdout",
     "output_type": "stream",
     "text": [
      "[1, 2, 2, 5, 6, 7, 8, 9]\n",
      "[1, 2, 2, 5, 6, 7, 8, 9]\n"
     ]
    }
   ],
   "source": [
    "a = [1,5,7,9]\n",
    "b = [2,2,6,8]\n",
    "print(sorted(a+b)) # 用加号\n",
    "a.extend(b)\n",
    "print(sorted(a))   # extend方法一个一个加入而不是像append一样全放入"
   ]
  },
  {
   "cell_type": "markdown",
   "metadata": {},
   "source": [
    "### 32、用python删除文件和用linux命令删除文件方法\n",
    "\n",
    "python：os.remove(文件名)\n",
    "\n",
    "linux: rm 文件名"
   ]
  },
  {
   "cell_type": "markdown",
   "metadata": {},
   "source": [
    "### 33、log日志中，我们需要用时间戳记录error,warning等的发生时间，请用datetime模块打印当前时间戳 “2018-04-01 11:38:54”"
   ]
  },
  {
   "cell_type": "code",
   "execution_count": 24,
   "metadata": {},
   "outputs": [
    {
     "name": "stdout",
     "output_type": "stream",
     "text": [
      "2020-05-05 17:47:20\n",
      "Week day on 2\n"
     ]
    }
   ],
   "source": [
    "import datetime\n",
    "a = str(datetime.datetime.now().strftime('%Y-%m-%d %H:%M:%S'))\n",
    "print(a)\n",
    "a = \"Week day on \" + str(datetime.datetime.now().isoweekday())\n",
    "print(a)"
   ]
  },
  {
   "cell_type": "markdown",
   "metadata": {},
   "source": [
    "### 34、数据库优化查询方法\n",
    "\n",
    "外键、索引、联合查询、选择特定字段等等\n",
    "\n",
    "### 35、请列出你会的任意一种统计图（条形图、折线图等）绘制的开源库，第三方也行\n",
    "\n",
    "pyecharts、matplotlib"
   ]
  },
  {
   "cell_type": "markdown",
   "metadata": {},
   "source": [
    "### 36、写一段自定义异常代码"
   ]
  },
  {
   "cell_type": "code",
   "execution_count": 25,
   "metadata": {},
   "outputs": [
    {
     "name": "stdout",
     "output_type": "stream",
     "text": [
      "x is greater than 2!\n",
      "finally\n"
     ]
    }
   ],
   "source": [
    "def fn(x):\n",
    "    if(x>2):\n",
    "        raise Exception(\"x is greater than 2!\")\n",
    "try:\n",
    "    fn(3)\n",
    "except Exception as e:\n",
    "    print(e)\n",
    "finally:\n",
    "    print(\"finally\")"
   ]
  },
  {
   "cell_type": "markdown",
   "metadata": {},
   "source": [
    "### 37、正则表达式匹配中，（.*）和（.*?）匹配区别？\n",
    "\n",
    "（.*）是贪婪匹配，会把满足正则的尽可能多的往后匹配\n",
    "\n",
    "（.*?）是非贪婪匹配，会把满足正则的尽可能少匹配"
   ]
  },
  {
   "cell_type": "markdown",
   "metadata": {},
   "source": [
    "### 38、简述Django的orm\n",
    "ORM，全拼Object-Relation Mapping，意为对象-关系映射\n",
    "\n",
    "实现了数据模型与数据库的解耦，通过简单的配置就可以轻松更换数据库，而不需要修改代码只需要面向对象编程,orm操作本质上会根据对接的数据库引擎，翻译成对应的sql语句,所有使用Django开发的项目无需关心程序底层使用的是MySQL、Oracle、sqlite....，如果数据库迁移，只需要更换Django的数据库引擎即可"
   ]
  },
  {
   "cell_type": "markdown",
   "metadata": {},
   "source": [
    "### 39、[[1,2],[3,4],[5,6]]一行代码展开该列表，得出[1,2,3,4,5,6]"
   ]
  },
  {
   "cell_type": "code",
   "execution_count": 26,
   "metadata": {},
   "outputs": [
    {
     "data": {
      "text/plain": [
       "[1, 2, 3, 4, 5, 6]"
      ]
     },
     "execution_count": 26,
     "metadata": {},
     "output_type": "execute_result"
    }
   ],
   "source": [
    "a = [[1,2],[3,4],[5,6]]\n",
    "[j for i in a for j in i]"
   ]
  },
  {
   "cell_type": "code",
   "execution_count": 27,
   "metadata": {},
   "outputs": [
    {
     "data": {
      "text/plain": [
       "[1, 2, 3, 4, 5, 6]"
      ]
     },
     "execution_count": 27,
     "metadata": {},
     "output_type": "execute_result"
    }
   ],
   "source": [
    "np.array(a).flatten().tolist()"
   ]
  },
  {
   "cell_type": "markdown",
   "metadata": {},
   "source": [
    "### 40、x=\"abc\",y=\"def\",z=[\"d\",\"e\",\"f\"],分别求出x.join(y)和x.join(z)返回的结果\n",
    "\n",
    "dabceabcf\n",
    "dabceabdf"
   ]
  },
  {
   "cell_type": "code",
   "execution_count": 28,
   "metadata": {},
   "outputs": [
    {
     "data": {
      "text/plain": [
       "'dabceabcf'"
      ]
     },
     "execution_count": 28,
     "metadata": {},
     "output_type": "execute_result"
    }
   ],
   "source": [
    "x=\"abc\"\n",
    "y=\"def\"\n",
    "z=[\"d\",\"e\",\"f\"]\n",
    "x.join(y)"
   ]
  },
  {
   "cell_type": "code",
   "execution_count": 29,
   "metadata": {},
   "outputs": [
    {
     "data": {
      "text/plain": [
       "'dabceabcf'"
      ]
     },
     "execution_count": 29,
     "metadata": {},
     "output_type": "execute_result"
    }
   ],
   "source": [
    "x.join(z)"
   ]
  },
  {
   "cell_type": "markdown",
   "metadata": {},
   "source": [
    "### 41、举例说明异常模块中try except else finally的相关意义\n",
    "\n",
    "try..except..else没有捕获到异常，执行else语句\n",
    "\n",
    "try..except..finally不管是否捕获到异常，都执行finally语句\n",
    "\n",
    "### 42、python中交换两个数值\n",
    "\n",
    "```python\n",
    "a, b = b, a\n",
    "```\n",
    "\n",
    "### 43、举例说明zip()函数用法\n",
    "zip()函数在运算时，会以一个或多个序列（可迭代对象）做为参数，返回一个元组的列表。同时将这些序列中并排的元素配对。\n",
    "\n",
    "zip()参数可以接受任何类型的序列，同时也可以有两个以上的参数;当传入参数的长度不同时，zip能自动以最短序列长度为准进行截取，获得元组。"
   ]
  },
  {
   "cell_type": "code",
   "execution_count": 30,
   "metadata": {},
   "outputs": [
    {
     "data": {
      "text/plain": [
       "[(1, 'a', '小'), (2, 'b', '猪'), (3, 'c', '佩')]"
      ]
     },
     "execution_count": 30,
     "metadata": {},
     "output_type": "execute_result"
    }
   ],
   "source": [
    "a = [1,2,3]\n",
    "b = ['a','b','c']\n",
    "c = \"小猪佩奇\"\n",
    "list(zip(a,b,c))"
   ]
  },
  {
   "cell_type": "markdown",
   "metadata": {},
   "source": [
    "### 44、a=\"张明 98分\"，用re.sub，将98替换为100"
   ]
  },
  {
   "cell_type": "code",
   "execution_count": 31,
   "metadata": {},
   "outputs": [
    {
     "data": {
      "text/plain": [
       "'张明 100分'"
      ]
     },
     "execution_count": 31,
     "metadata": {},
     "output_type": "execute_result"
    }
   ],
   "source": [
    "pat = '\\d+'\n",
    "re.sub(pat,'100', \"张明 98分\")"
   ]
  },
  {
   "cell_type": "markdown",
   "metadata": {},
   "source": [
    "### 45、写5条常用sql语句\n",
    "\n",
    "show databases;\n",
    "\n",
    "show tables;\n",
    "\n",
    "desc 表名;\n",
    "\n",
    "select * from 表名;\n",
    "\n",
    "delete from 表名 where id=5;\n",
    "\n",
    "update students set gender=0,hometown=\"北京\" where id=5\n",
    "\n",
    "grant all privileges on somebody"
   ]
  },
  {
   "cell_type": "markdown",
   "metadata": {},
   "source": [
    "### 46、a=\"hello\"和b=\"你好\"编码成bytes类型"
   ]
  },
  {
   "cell_type": "code",
   "execution_count": 32,
   "metadata": {},
   "outputs": [
    {
     "name": "stdout",
     "output_type": "stream",
     "text": [
      "b'hello' b'\\xe4\\xbd\\xa0\\xe5\\xa5\\xbd'\n",
      "[<class 'bytes'>, <class 'bytes'>]\n"
     ]
    }
   ],
   "source": [
    "a=b\"hello\"\n",
    "b=\"你好\".encode()\n",
    "print(a,b)\n",
    "print(list(map(type,[a,b])))"
   ]
  },
  {
   "cell_type": "markdown",
   "metadata": {},
   "source": [
    "### 47、[1,2,3]+[4,5,6]的结果是多少？\n",
    "\n",
    "[1,2,3,4,5,6]\n",
    "\n",
    "### 48、提高python运行效率的方法\n",
    "\n",
    "1、使用生成器，因为可以节约大量内存\n",
    "\n",
    "2、循环代码优化，避免过多重复代码的执行\n",
    "\n",
    "3、核心模块用Cython PyPy等，提高效率\n",
    "\n",
    "4、多进程、多线程、协程\n",
    "\n",
    "5、多个if elif条件判断，可以把最有可能先发生的条件放到前面写，这样可以减少程序判断的次数，提高效率"
   ]
  },
  {
   "cell_type": "code",
   "execution_count": 33,
   "metadata": {},
   "outputs": [
    {
     "name": "stdout",
     "output_type": "stream",
     "text": [
      "1\n",
      "4 9 16 25 36 49 64 81 100 "
     ]
    }
   ],
   "source": [
    "#### 生成器\n",
    "g = (i*i for i in range(1, 11)) # 生成式方式创建\n",
    "a = next(g)\n",
    "print(a)\n",
    "for i in g:\n",
    "    print(i, end=' ') # 迭代和next都是一次性的\n",
    "for i in g:\n",
    "    print(\"已经next到最后了，g已经空了，这条不会打印\")"
   ]
  },
  {
   "cell_type": "code",
   "execution_count": 34,
   "metadata": {},
   "outputs": [
    {
     "name": "stdout",
     "output_type": "stream",
     "text": [
      "1 1 2 3 5 8 13 21 34 55 "
     ]
    }
   ],
   "source": [
    "def fn(max): # 函数形式生成器\n",
    "    n, a, b = 0, 0, 1\n",
    "    while n < max:\n",
    "        yield b\n",
    "        a, b = b, a+b\n",
    "        n += 1\n",
    "# 函数执行到yield语句暂时返回，next()方法可以再次进入函数，从yield语句继续\n",
    "\n",
    "a = fn(10)\n",
    "for i in a:\n",
    "    print(i, end=' ')"
   ]
  },
  {
   "cell_type": "markdown",
   "metadata": {},
   "source": [
    "### 49、简述mysql和redis区别\n",
    "\n",
    "redis： 内存型非关系数据库，数据保存在内存中，速度快\n",
    "\n",
    "mysql：关系型数据库，数据保存在磁盘中，检索的话，会有一定的Io操作，访问速度相对慢\n",
    "\n",
    "### 50、遇到bug如何处理\n",
    "\n",
    "### 51、正则匹配，匹配日期2018-03-20\n",
    "\n",
    "### 52、list=[2,3,5,4,9,6]，从小到大排序，不许用sort，输出[2,3,4,5,6,9]\n",
    "\n",
    "### 53、写一个单列模式"
   ]
  },
  {
   "cell_type": "code",
   "execution_count": 41,
   "metadata": {},
   "outputs": [
    {
     "name": "stdout",
     "output_type": "stream",
     "text": [
      "2187904584776 2187904584776\n",
      "a a\n"
     ]
    }
   ],
   "source": [
    "import threading\n",
    "\n",
    "class Singleton:\n",
    "    __instance = None\n",
    "    \n",
    "    lock = threading.Lock() # 类锁\n",
    "    \n",
    "    def __new__(cls, name):\n",
    "        if not cls.__instance:\n",
    "            with Singleton.lock:\n",
    "                if not cls.__instance:\n",
    "                    cls.__instance = object.__new__(cls)\n",
    "        return cls.__instance\n",
    "    \n",
    "    def __init__(self, name):\n",
    "        if not hasattr(self, 'name'):\n",
    "            with Singleton.lock:\n",
    "                if not hasattr(self, 'name'):\n",
    "                    self.name = name\n",
    "        \n",
    "lock = None\n",
    "a = Singleton(\"a\")\n",
    "b = Singleton(\"b\")\n",
    "print(id(a), id(b))\n",
    "print(a.name, b.name)"
   ]
  },
  {
   "cell_type": "code",
   "execution_count": 42,
   "metadata": {},
   "outputs": [
    {
     "name": "stdout",
     "output_type": "stream",
     "text": [
      "Name in (t1) is a\n",
      "Instance ID is 2187904584776\n",
      "Name in (t2) is a\n",
      "Instance ID is 2187904584776\n"
     ]
    }
   ],
   "source": [
    "def instanceIt(s):\n",
    "    a = Singleton(s)\n",
    "    print(\"Name in (%s) is %s\" % (s, a.name))\n",
    "    print(\"Instance ID is %s\" % id(a))\n",
    "\n",
    "t1 = threading.Thread(target=instanceIt,args=(\"t1\",))\n",
    "t2 = threading.Thread(target=instanceIt,args=(\"t2\",))\n",
    "\n",
    "t1.start()\n",
    "t2.start()"
   ]
  },
  {
   "cell_type": "markdown",
   "metadata": {},
   "source": [
    "### 54、保留两位小数"
   ]
  },
  {
   "cell_type": "code",
   "execution_count": 43,
   "metadata": {},
   "outputs": [
    {
     "data": {
      "text/plain": [
       "1.33"
      ]
     },
     "execution_count": 43,
     "metadata": {},
     "output_type": "execute_result"
    }
   ],
   "source": [
    "a = 1.3335\n",
    "round(float(a),2)"
   ]
  },
  {
   "cell_type": "markdown",
   "metadata": {},
   "source": [
    "### 55、求三个方法打印结果"
   ]
  },
  {
   "cell_type": "code",
   "execution_count": 44,
   "metadata": {},
   "outputs": [
    {
     "name": "stdout",
     "output_type": "stream",
     "text": [
      "{'one': 1}\n",
      "{'one': 1, 'two': 2}\n",
      "{'three': 3}\n"
     ]
    }
   ],
   "source": [
    "def fn(k,v,dic={}):\n",
    "    dic[k] = v\n",
    "    print(dic)\n",
    "fn(\"one\",1)\n",
    "fn(\"two\",2) # 默认的引用对象依然存在\n",
    "fn(\"three\",3,{})"
   ]
  },
  {
   "cell_type": "markdown",
   "metadata": {},
   "source": [
    "### 56、列出常见的状态码和意义\n",
    "\n",
    "200 OK\n",
    "\n",
    "请求正常处理完毕\n",
    "\n",
    "204 No Content\n",
    "\n",
    "请求成功处理，没有实体的主体返回\n",
    "\n",
    "206 Partial Content\n",
    "\n",
    "GET范围请求已成功处理\n",
    "\n",
    "301 Moved Permanently\n",
    "\n",
    "永久重定向，资源已永久分配新URI\n",
    "\n",
    "302 Found\n",
    "\n",
    "临时重定向，资源已临时分配新URI\n",
    "\n",
    "303 See Other\n",
    "\n",
    "临时重定向，期望使用GET定向获取\n",
    "\n",
    "304 Not Modified\n",
    "\n",
    "发送的附带条件请求未满足\n",
    "\n",
    "307 Temporary Redirect\n",
    "\n",
    "临时重定向，POST不会变成GET\n",
    "\n",
    "400 Bad Request\n",
    "\n",
    "请求报文语法错误或参数错误\n",
    "\n",
    "401 Unauthorized\n",
    "\n",
    "需要通过HTTP认证，或认证失败\n",
    "\n",
    "403 Forbidden\n",
    "\n",
    "请求资源被拒绝\n",
    "\n",
    "404 Not Found\n",
    "\n",
    "无法找到请求资源（服务器无理由拒绝）\n",
    "\n",
    "500 Internal Server Error\n",
    "\n",
    "服务器故障或Web应用故障\n",
    "\n",
    "503 Service Unavailable\n",
    "\n",
    "服务器超负载或停机维护\n",
    "\n",
    "### 57、分别从前端、后端、数据库阐述web项目的性能优化\n",
    "\n",
    "该题目网上有很多方法，我不想截图网上的长串文字，看的头疼，按我自己的理解说几点\n",
    "\n",
    "#### 前端优化：\n",
    "\n",
    "1、减少http请求、例如制作精灵图\n",
    "\n",
    "2、html和CSS放在页面上部，javascript放在页面下面，因为js加载比HTML和Css加载慢，所以要优先加载html和css,以防页面显示不全，性能差，也影响用户体验差\n",
    "\n",
    "\n",
    "\n",
    "#### 后端优化：\n",
    "\n",
    "1、缓存存储读写次数高，变化少的数据，比如网站首页的信息、商品的信息等。应用程序读取数据时，一般是先从缓存中读取，如果读取不到或数据已失效，再访问磁盘数据库，并将数据再次写入缓存。\n",
    "\n",
    "2、异步方式，如果有耗时操作，可以采用异步，比如celery\n",
    "\n",
    "3、代码优化，避免循环和判断次数太多，如果多个if else判断，优先判断最有可能先发生的情况\n",
    "\n",
    "\n",
    "\n",
    "#### 数据库优化：\n",
    "\n",
    "1、如有条件，数据可以存放于redis，读取速度快\n",
    "\n",
    "2、建立索引、外键等\n",
    "\n",
    "\n",
    "\n",
    "### 58、使用pop和del删除字典中的\"name\"字段，dic={\"name\":\"zs\",\"age\":18}"
   ]
  },
  {
   "cell_type": "code",
   "execution_count": 45,
   "metadata": {},
   "outputs": [
    {
     "data": {
      "text/plain": [
       "{'age': 18}"
      ]
     },
     "execution_count": 45,
     "metadata": {},
     "output_type": "execute_result"
    }
   ],
   "source": [
    "dic={\"name\":\"zs\",\"age\":18}\n",
    "dic.pop(\"name\")\n",
    "dic"
   ]
  },
  {
   "cell_type": "code",
   "execution_count": 46,
   "metadata": {},
   "outputs": [
    {
     "data": {
      "text/plain": [
       "{'age': 18}"
      ]
     },
     "execution_count": 46,
     "metadata": {},
     "output_type": "execute_result"
    }
   ],
   "source": [
    "dic={\"name\":\"zs\",\"age\":18}\n",
    "del dic[\"name\"]\n",
    "dic"
   ]
  },
  {
   "cell_type": "markdown",
   "metadata": {},
   "source": [
    "### 59、列出常见MYSQL数据存储引擎\n",
    "\n",
    "InnoDB：支持**事务处理**，支持**外键**，支持崩溃修复能力和**并发控制**。如果需要对事务的完整性要求比较高（比如银行），要求实现并发控制（比如售票），那选择InnoDB有很大的优势。如果需要频繁的更新、删除操作的数据库，也可以选择InnoDB，因为支持事务的提交（commit）和回滚（rollback）。\n",
    "\n",
    "MyISAM：**插入数据快**，**空间和内存使用比较低**。如果表主要是用于插入新记录和读出记录，那么选择MyISAM能实现处理高效率。如果应用的完整性、并发性要求比 较低，也可以使用。\n",
    "\n",
    "MEMORY：所有的数据都在内存中，数据的处理速度快，但是安全性不高。如果需要很快的读写速度，对数据的安全性要求较低，可以选择MEMOEY。它对表的大小有要求，不能建立太大的表。所以，这类数据库只使用在相对较小的数据库表。"
   ]
  },
  {
   "cell_type": "markdown",
   "metadata": {},
   "source": [
    "### 60、dict()创建字典新方法\n",
    "通过传入列表或元组的列表"
   ]
  },
  {
   "cell_type": "code",
   "execution_count": 49,
   "metadata": {},
   "outputs": [
    {
     "name": "stdout",
     "output_type": "stream",
     "text": [
      "{'k1': 'v1', 'k2': 'v2'} {'k1': 'v1', 'k2': 'v2'}\n"
     ]
    }
   ],
   "source": [
    "s1 = dict([(\"k1\",\"v1\"),(\"k2\",\"v2\")])\n",
    "s2 = dict([[\"k1\",\"v1\"],[\"k2\",\"v2\"]])\n",
    "print(s1,s2)"
   ]
  },
  {
   "cell_type": "markdown",
   "metadata": {},
   "source": [
    "### 61、简述同源策略\n",
    "同源策略（same-origin policy）是一种出于浏览器安全方面的考虑而出台的一种策略，它可以保证用户信息的安全，防止恶意的网站窃取。同源策略只允许与本域下的接口交互，不同源的客户端脚本在没有明确授权的情况下，不能读写对方的资源。\n",
    "\n",
    "同源策略需要同时满足以下三点要求：\n",
    "\n",
    "1）协议相同\n",
    "\n",
    "2）域名相同\n",
    "\n",
    "3）端口相同\n",
    "\n",
    "http:http://www.test.com与https:http://www.test.com 不同源——协议不同\n",
    "\n",
    "http:http://www.test.com与http:http://www.admin.com 不同源——域名不同\n",
    "\n",
    "http:http://www.test.com与http:http://www.test.com:8081 不同源——端口不同\n",
    "\n",
    "只要不满足其中任意一个要求，就不符合同源策略，就会出现“跨域”\n",
    "\n",
    "#### 如何跨域？\n",
    "由于同源策略的影响，当我们从一个域名的网页去请求另一个域名的资源时，就无法成功获取资源。如果我们要想成功获取资源，那么就要用到跨域。\n",
    "\n",
    "+ JSONP 通过后端获取数据\n",
    "```html\n",
    "<script src=\"http://117.0.0.1:8080/getNews?callback=showData\"></script>\n",
    "```\n",
    "+ CORS 全称是跨域资源共享，是一种ajax跨域请求资源的方式\n",
    "\n",
    "当发生跨域时，浏览器会在请求头中加入Origin字段，值为源站url；响应头中有Access-Control-Allow-Origin字段，内容是允许跨域访问的源url。如果ACAO中有O的值，则浏览器会发送，否则浏览器会驳回请求。\n",
    "\n",
    "### 62、简述cookie和session的区别\n",
    "\n",
    "1，session 在服务器端，cookie 在客户端（浏览器）\n",
    "\n",
    "2、session 的运行依赖 session id，而 session id 是存在 cookie 中的，也就是说，如果浏览器禁用了 cookie ，同时 session 也会失效，存储Session时，键与Cookie中的sessionid相同，值是开发人员设置的键值对信息，进行了base64编码，过期时间由开发人员设置\n",
    "\n",
    "3、cookie安全性比session差\n",
    "\n",
    "### 63、简述多线程、多进程\n",
    "\n",
    "#### 进程：\n",
    "\n",
    "1、操作系统进行资源分配和调度的基本单位，多个进程之间相互独立\n",
    "\n",
    "2、稳定性好，如果一个进程崩溃，不影响其他进程，但是进程消耗资源大，开启的进程数量有限制\n",
    "\n",
    "\n",
    "\n",
    "#### 线程：\n",
    "\n",
    "1、CPU进行资源分配和调度的基本单位，线程是进程的一部分，是比进程更小的能独立运行的基本单位，一个进程下的多个线程可以共享该进程的所有资源\n",
    "\n",
    "2、如果IO操作密集，则可以多线程运行效率高，缺点是如果一个线程崩溃，都会造成进程的崩溃\n",
    "\n",
    "#### 应用：\n",
    "\n",
    "IO密集的用多线程，在用户输入，sleep 时候，可以切换到其他线程执行，减少等待的时间\n",
    "\n",
    "CPU密集的用多进程，因为假如IO操作少，用多线程的话，因为线程共享一个全局解释器锁，当前运行的线程会霸占GIL，其他线程没有GIL，就不能充分利用多核CPU的优势\n",
    "\n",
    "### 64、简述any()和all()方法\n",
    "\n",
    "any():只要迭代器中有一个元素为真就为真\n",
    "\n",
    "all():迭代器中所有的判断项返回都是真，结果才为真"
   ]
  },
  {
   "cell_type": "code",
   "execution_count": 50,
   "metadata": {},
   "outputs": [
    {
     "name": "stdout",
     "output_type": "stream",
     "text": [
      "True False\n"
     ]
    }
   ],
   "source": [
    "a = [1,\"2\",(3,),None]\n",
    "print(any(a), all(a))"
   ]
  },
  {
   "cell_type": "markdown",
   "metadata": {},
   "source": [
    "### 65、IOError、AttributeError、ImportError、IndentationError、IndexError、KeyError、SyntaxError、NameError分别代表什么异常\n",
    "\n",
    "IOError：输入输出异常\n",
    "\n",
    "AttributeError：试图访问一个对象没有的属性\n",
    "\n",
    "ImportError：无法引入模块或包，基本是路径问题\n",
    "\n",
    "IndentationError：语法错误，代码没有正确的对齐\n",
    "\n",
    "IndexError：下标索引超出序列边界\n",
    "\n",
    "KeyError:试图访问你字典里不存在的键\n",
    "\n",
    "SyntaxError:Python代码逻辑语法出错，不能执行\n",
    "\n",
    "NameError:使用一个还未赋予对象的变量\n",
    "\n",
    "### 66、python中copy和deepcopy区别\n",
    "\n",
    "1、复制不可变数据类型，不管copy还是deepcopy,和=“赋值”的情况一样，对象的id值与浅复制原来的值相同。"
   ]
  },
  {
   "cell_type": "code",
   "execution_count": 52,
   "metadata": {},
   "outputs": [
    {
     "name": "stdout",
     "output_type": "stream",
     "text": [
      "[2187938124656, 2187938124656, 2187938124656, 2187938124656]\n"
     ]
    }
   ],
   "source": [
    "import copy\n",
    "a = \"hello\"\n",
    "b = a\n",
    "c = copy.copy(a)\n",
    "d = copy.deepcopy(a)\n",
    "print(list(map(id,[a,b,c,d])))"
   ]
  },
  {
   "cell_type": "markdown",
   "metadata": {},
   "source": [
    "2、复制的值是可变对象（列表和字典）\n",
    "\n",
    "浅拷贝copy有两种情况：\n",
    "\n",
    "第一种情况：复制的 对象中无 复杂 子对象，原来值的改变并不会影响浅复制的值，同时浅复制的值改变也并不会影响原来的值。原来值的id值与浅复制原来的值不同。\n",
    "\n",
    "第二种情况：复制的对象中有 复杂 子对象 （例如列表中的一个子元素是一个列表）， 改变原来的值 中的复杂子对象的值 ，会影响浅复制的值。\n",
    "\n",
    "深拷贝deepcopy：完全复制独立，包括内层列表和字典\n",
    "\n",
    "**也就是说，对于内部复杂对象，浅拷贝是同一个引用，深拷贝是新的对象**\n",
    "\n",
    "### 67、列出几种魔法方法并简要介绍用途\n",
    "\n",
    "__init__:对象初始化方法\n",
    "\n",
    "__new__:创建对象时候执行的方法，单列模式会用到\n",
    "\n",
    "__str__:当使用print输出对象的时候，只要自己定义了__str__(self)方法，那么就会打印从在这个方法中return的数据\n",
    "\n",
    "__del__:删除对象执行的方法\n",
    "\n",
    "__len__:长度\n",
    "\n",
    "__getitem__:按照idx获取值\n",
    "\n",
    "### 68、python 1.py 22 33命令行启动程序并传参，print(sys.argv)会输出什么数据？\n",
    "['1.py','22','33']\n",
    "\n",
    "### 69、请将[i for i in range(3)]改成生成器\n",
    "```python\n",
    "(i for i in range(3))\n",
    "```\n",
    "\n",
    "### 70、a = \" hehheh \",去除首尾空格"
   ]
  },
  {
   "cell_type": "code",
   "execution_count": 55,
   "metadata": {},
   "outputs": [
    {
     "data": {
      "text/plain": [
       "'hehheh'"
      ]
     },
     "execution_count": 55,
     "metadata": {},
     "output_type": "execute_result"
    }
   ],
   "source": [
    "a = \" hehheh \"\n",
    "a.strip()"
   ]
  },
  {
   "cell_type": "markdown",
   "metadata": {},
   "source": [
    "### 71、举例sort和sorted对列表排序，list=[0,-1,3,-10,5,9]\n",
    "sort是inplace的，返回None，sorted返回排序后的对象。\n",
    "\n",
    "### 72、对list排序foo = [-5,8,0,4,9,-4,-20,-2,8,2,-4],使用lambda函数从小到大排序"
   ]
  },
  {
   "cell_type": "code",
   "execution_count": 56,
   "metadata": {},
   "outputs": [
    {
     "data": {
      "text/plain": [
       "[-20, -5, -4, -4, -2, 0, 2, 4, 8, 8, 9]"
      ]
     },
     "execution_count": 56,
     "metadata": {},
     "output_type": "execute_result"
    }
   ],
   "source": [
    "foo = [-5,8,0,4,9,-4,-20,-2,8,2,-4]\n",
    "sorted(foo, key=lambda x:x)"
   ]
  },
  {
   "cell_type": "markdown",
   "metadata": {},
   "source": [
    "### 73、使用lambda函数对list排序foo = [-5,8,0,4,9,-4,-20,-2,8,2,-4]，输出结果为[0,2,4,8,8,9,-2,-4,-4,-5,-20]，正数从小到大，负数从大到小"
   ]
  },
  {
   "cell_type": "code",
   "execution_count": null,
   "metadata": {},
   "outputs": [],
   "source": [
    "foo = [-5,8,0,4,9,-4,-20,-2,8,2,-4]\n",
    "sorted(foo, key=lambda x:(x<0,abs(x)))\n",
    "# 首先x<0, 正数返回0，负数返回1，这样第一轮排序是正数在前负数在后\n",
    "# 第二轮排序对每组按照绝对值从小到大排"
   ]
  },
  {
   "cell_type": "markdown",
   "metadata": {},
   "source": [
    "### 74、列表嵌套字典的排序，分别根据年龄和姓名排序\n",
    "还是 key\n",
    "### 75、列表嵌套元组，分别按字母和数字排序\n",
    "key返回元组\n",
    "### 76、列表嵌套列表排序，年龄数字相同怎么办？\n",
    "key\n",
    "### 77、根据键对字典排序（用zip函数）\n",
    "### 78、根据键对字典排序（不用zip函数）"
   ]
  },
  {
   "cell_type": "code",
   "execution_count": 63,
   "metadata": {},
   "outputs": [
    {
     "name": "stdout",
     "output_type": "stream",
     "text": [
      "[('city', 'bj'), ('name', 'zs'), ('sex', 'man')]\n",
      "[('city', 'bj'), ('name', 'zs'), ('sex', 'man')]\n",
      "{'city': 'bj', 'name': 'zs', 'sex': 'man'}\n"
     ]
    }
   ],
   "source": [
    "dic = {\"name\":\"zs\", \"sex\":\"man\", \"city\":\"bj\"}\n",
    "foo1 = list(zip(dic.keys(), dic.values())) # zip\n",
    "foo2 = dic.items() # no zip\n",
    "print(sorted(foo1, key=lambda x:x[0]))\n",
    "print(sorted(foo2, key=lambda x:x[0]))\n",
    "dic = dict(sorted(foo1, key=lambda x:x[0]))\n",
    "print(dic)"
   ]
  },
  {
   "cell_type": "markdown",
   "metadata": {},
   "source": [
    "### 79、列表推导式、字典推导式、生成器\n",
    "只写字典了"
   ]
  },
  {
   "cell_type": "code",
   "execution_count": 65,
   "metadata": {},
   "outputs": [
    {
     "data": {
      "text/plain": [
       "{'1': 'V1', '2': 'V2', '3': 'V3', '4': 'V4', '5': 'V5'}"
      ]
     },
     "execution_count": 65,
     "metadata": {},
     "output_type": "execute_result"
    }
   ],
   "source": [
    "dic = {k:\"V\"+k for k in \"12345\"}\n",
    "dic"
   ]
  },
  {
   "cell_type": "markdown",
   "metadata": {},
   "source": [
    "### 80、最后出一道检验题目，根据字符串长度排序，看排序是否灵活运用"
   ]
  },
  {
   "cell_type": "code",
   "execution_count": 66,
   "metadata": {},
   "outputs": [
    {
     "data": {
      "text/plain": [
       "['a', 'ab', 'ab', 'abcd']"
      ]
     },
     "execution_count": 66,
     "metadata": {},
     "output_type": "execute_result"
    }
   ],
   "source": [
    "s = ['ab','abcd','a','ab']\n",
    "sorted(s, key=lambda x:len(x))"
   ]
  },
  {
   "cell_type": "markdown",
   "metadata": {},
   "source": [
    "### 81、举例说明SQL注入和解决办法\n",
    "\n",
    "当以字符串格式化书写方式的时候，如果用户输入的有;+SQL语句，后面的SQL语句会执行，比如例子中的SQL注入会删除数据库demo"
   ]
  },
  {
   "cell_type": "code",
   "execution_count": 68,
   "metadata": {},
   "outputs": [
    {
     "data": {
      "text/plain": [
       "'select * from demo where name = zs;drop database demo'"
      ]
     },
     "execution_count": 68,
     "metadata": {},
     "output_type": "execute_result"
    }
   ],
   "source": [
    "good_input = \"zs\"\n",
    "fake_input = \"zs;drop database demo\"\n",
    "\n",
    "bad_sql = \"select * from demo where name = %s\" % fake_input\n",
    "bad_sql"
   ]
  },
  {
   "cell_type": "markdown",
   "metadata": {},
   "source": [
    "通过参数化来解决SQL注入。参数化预先编译好SQL语句，留下参数位置。\n",
    "\n",
    "参数化能防注入的原因在于，语句是语句，参数是参数，参数的值并不是语句的一部分，数据库只按语句的语义跑，至于跑的时候是带一个普通背包还是一个怪物，不会影响行进路线，无非跑的快点与慢点的区别。\n",
    "\n",
    "### 85、python字典和json字符串相互转化方法"
   ]
  },
  {
   "cell_type": "code",
   "execution_count": 69,
   "metadata": {},
   "outputs": [
    {
     "data": {
      "text/plain": [
       "'{\"name\": \"zs\"}'"
      ]
     },
     "execution_count": 69,
     "metadata": {},
     "output_type": "execute_result"
    }
   ],
   "source": [
    "import json\n",
    "dic = {\"name\":\"zs\"}\n",
    "json.dumps(dic)"
   ]
  },
  {
   "cell_type": "code",
   "execution_count": 70,
   "metadata": {},
   "outputs": [
    {
     "data": {
      "text/plain": [
       "{'name': 'zs'}"
      ]
     },
     "execution_count": 70,
     "metadata": {},
     "output_type": "execute_result"
    }
   ],
   "source": [
    "s = '{\"name\": \"zs\"}'\n",
    "json.loads(s)"
   ]
  },
  {
   "cell_type": "markdown",
   "metadata": {},
   "source": [
    "### 91、简述python引用计数机制\n",
    "\n",
    "python垃圾回收主要以引用计数为主，标记-清除和分代清除为辅的机制，其中标记-清除和分代回收主要是为了处理循环引用的难题。\n",
    "引用计数算法\n",
    "\n",
    "当有1个变量保存了对象的引用时，此对象的引用计数就会加1\n",
    "\n",
    "当使用del删除变量指向的对象时，如果对象的引用计数不为1，比如3，那么此时只会让这个引用计数减1，即变为2，当再次调用del时，变为1，如果再调用1次del，此时会真的把对象进行删除"
   ]
  }
 ],
 "metadata": {
  "kernelspec": {
   "display_name": "Python 3",
   "language": "python",
   "name": "python3"
  },
  "language_info": {
   "codemirror_mode": {
    "name": "ipython",
    "version": 3
   },
   "file_extension": ".py",
   "mimetype": "text/x-python",
   "name": "python",
   "nbconvert_exporter": "python",
   "pygments_lexer": "ipython3",
   "version": "3.7.6"
  }
 },
 "nbformat": 4,
 "nbformat_minor": 4
}
