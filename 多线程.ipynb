{
 "cells": [
  {
   "cell_type": "markdown",
   "metadata": {},
   "source": [
    "# 学习多线程并发\n",
    "本章学习资料来自https://juejin.im/post/5b17f4305188257d6b5cff6f"
   ]
  },
  {
   "cell_type": "code",
   "execution_count": 1,
   "metadata": {},
   "outputs": [],
   "source": [
    "import threading"
   ]
  },
  {
   "cell_type": "markdown",
   "metadata": {},
   "source": [
    "\n",
    "\n",
    "threading.Thread(func, args)来建立一个线程，和多进程差不多\n",
    "\n",
    "## Lock锁\n",
    "\n",
    "lock = threading.Lock() 获取锁对象\n",
    "\n",
    "lock.acquire(); lock.release() 获得、释放锁\n",
    "\n",
    "也可以用上下文管理器来管理锁，以面忘了释放\n",
    "```python\n",
    "with lock:\n",
    "    pass\n",
    "```\n",
    "\n",
    "定义一个简单的任务"
   ]
  },
  {
   "cell_type": "code",
   "execution_count": 2,
   "metadata": {},
   "outputs": [
    {
     "name": "stdout",
     "output_type": "stream",
     "text": [
      "job1 1\n",
      "job1 2\n",
      "job1 3\n",
      "job1 4\n",
      "job1 5\n",
      "job2 15\n",
      "job2 25\n",
      "job2 35\n",
      "job2 45\n",
      "job2 55\n"
     ]
    }
   ],
   "source": [
    "def job1():\n",
    "    global n\n",
    "    for i in range(5):\n",
    "        n+=1\n",
    "        print('job1',n)\n",
    "\n",
    "def job2():\n",
    "    global n\n",
    "    for i in range(5):\n",
    "        n+=10\n",
    "        print('job2',n)\n",
    "\n",
    "n=0\n",
    "t1=threading.Thread(target=job1)\n",
    "t2=threading.Thread(target=job2)\n",
    "t1.start()\n",
    "t2.start()"
   ]
  },
  {
   "cell_type": "markdown",
   "metadata": {},
   "source": [
    "如果job1对n有要求，不能超过10，那么就会报错。\n",
    "\n",
    "现在加锁"
   ]
  },
  {
   "cell_type": "code",
   "execution_count": 3,
   "metadata": {},
   "outputs": [
    {
     "name": "stdout",
     "output_type": "stream",
     "text": [
      "job1 1\n",
      "job1 2\n",
      "job1 3\n",
      "job1 4\n",
      "job1 5\n",
      "job2 15\n",
      "job2 25\n",
      "job2 35\n",
      "job2 45\n",
      "job2 55\n"
     ]
    }
   ],
   "source": [
    "def job1():\n",
    "    global n, lock\n",
    "    with lock:\n",
    "        for i in range(5):\n",
    "            n+=1\n",
    "            print('job1',n)\n",
    "\n",
    "def job2():\n",
    "    global n, lock\n",
    "    with lock:\n",
    "        for i in range(5):\n",
    "            n+=10\n",
    "            print('job2',n)\n",
    "\n",
    "n = 0\n",
    "lock = threading.Lock()\n",
    "t1=threading.Thread(target=job1)\n",
    "t2=threading.Thread(target=job2)\n",
    "t1.start()\n",
    "t2.start()"
   ]
  },
  {
   "cell_type": "markdown",
   "metadata": {},
   "source": [
    "## RLock 可重入锁\n",
    "当前线程可以反复加锁，但也需要释放同样加锁次数的锁，即重入了多少次，就要释放多少次，不然也会导入锁不被释放"
   ]
  },
  {
   "cell_type": "code",
   "execution_count": 5,
   "metadata": {},
   "outputs": [
    {
     "name": "stdout",
     "output_type": "stream",
     "text": [
      "1\n",
      "2\n",
      "3\n",
      "4\n",
      "5\n",
      "6\n",
      "7\n",
      "8\n",
      "9\n",
      "10\n"
     ]
    }
   ],
   "source": [
    "def main():\n",
    "    n = 0\n",
    "    # 生成可重入锁对象\n",
    "    lock = threading.RLock()\n",
    "    with lock:\n",
    "        for i in range(10):\n",
    "            n += 1\n",
    "            with lock:\n",
    "                print(n)\n",
    "\n",
    "t1 = threading.Thread(target=main)\n",
    "t1.start()"
   ]
  },
  {
   "cell_type": "markdown",
   "metadata": {},
   "source": [
    "## 避免死锁\n",
    "### 排序\n",
    "线程A：获取a锁，获取b锁\n",
    "\n",
    "线程B：获取b锁，获取a锁\n",
    "\n",
    "==> 可能发生死锁\n",
    "\n",
    "对a、b锁进行排序，规定必须先拿a再拿b。\n",
    "\n",
    "缺点：必须知道线程会获得哪些锁\n",
    "### 超时\n",
    "超过一定时间则自动释放\n",
    "### 死锁检测\n",
    "按照顺序回退进程"
   ]
  },
  {
   "cell_type": "code",
   "execution_count": null,
   "metadata": {},
   "outputs": [],
   "source": []
  }
 ],
 "metadata": {
  "kernelspec": {
   "display_name": "Python 3",
   "language": "python",
   "name": "python3"
  },
  "language_info": {
   "codemirror_mode": {
    "name": "ipython",
    "version": 3
   },
   "file_extension": ".py",
   "mimetype": "text/x-python",
   "name": "python",
   "nbconvert_exporter": "python",
   "pygments_lexer": "ipython3",
   "version": "3.7.6"
  }
 },
 "nbformat": 4,
 "nbformat_minor": 4
}
